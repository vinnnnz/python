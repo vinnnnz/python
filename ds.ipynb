{
 "cells": [
  {
   "cell_type": "code",
   "execution_count": 1,
   "metadata": {
    "collapsed": true,
    "nbpresent": {
     "id": "d45d3f27-f3c0-4b98-b9ee-fc3925568913"
    },
    "slideshow": {
     "slide_type": "slide"
    }
   },
   "outputs": [],
   "source": [
    "class ArrayStack:\n",
    "    def __init__(self):\n",
    "        self.bucket = []\n",
    "        \n",
    "    def push(self, data):\n",
    "        self.bucket.append(data)\n",
    "        \n",
    "    def pop(self):\n",
    "        return self.bucket.pop()\n",
    "    \n",
    "    def size(self):\n",
    "        return len(self.bucket)\n",
    "    \n",
    "    def is_empty(self):\n",
    "        return self.size() == 0\n",
    "    \n",
    "    def display(self):\n",
    "        print(self.bucket)\n",
    "        \n"
   ]
  },
  {
   "cell_type": "code",
   "execution_count": 2,
   "metadata": {
    "collapsed": false,
    "nbpresent": {
     "id": "7288847e-0348-4c06-904f-1021982c3adc"
    },
    "slideshow": {
     "slide_type": "slide"
    }
   },
   "outputs": [
    {
     "data": {
      "text/plain": [
       "__main__.ArrayStack"
      ]
     },
     "execution_count": 2,
     "metadata": {},
     "output_type": "execute_result"
    }
   ],
   "source": [
    "stack = ArrayStack()\n",
    "type(stack)"
   ]
  },
  {
   "cell_type": "code",
   "execution_count": 3,
   "metadata": {
    "collapsed": false,
    "nbpresent": {
     "id": "e73daec3-ea82-4739-9b65-3a6f8e81376d"
    },
    "slideshow": {
     "slide_type": "slide"
    }
   },
   "outputs": [
    {
     "name": "stdout",
     "output_type": "stream",
     "text": [
      "['vineet', 'sonu', 'anonymous']\n"
     ]
    }
   ],
   "source": [
    "stack.push(\"vineet\")\n",
    "stack.push(\"sonu\")\n",
    "stack.push(\"anonymous\")\n",
    "stack.display()"
   ]
  },
  {
   "cell_type": "code",
   "execution_count": 4,
   "metadata": {
    "collapsed": false,
    "nbpresent": {
     "id": "17e1fc28-2fd8-4db4-b7aa-dec5ab2185c2"
    },
    "slideshow": {
     "slide_type": "slide"
    }
   },
   "outputs": [
    {
     "data": {
      "text/plain": [
       "'anonymous'"
      ]
     },
     "execution_count": 4,
     "metadata": {},
     "output_type": "execute_result"
    }
   ],
   "source": [
    "stack.pop()"
   ]
  },
  {
   "cell_type": "code",
   "execution_count": 13,
   "metadata": {
    "collapsed": false,
    "nbpresent": {
     "id": "1f56434c-a457-4813-a022-52c52f3db2de"
    },
    "slideshow": {
     "slide_type": "slide"
    }
   },
   "outputs": [
    {
     "data": {
      "text/plain": [
       "2"
      ]
     },
     "execution_count": 13,
     "metadata": {},
     "output_type": "execute_result"
    }
   ],
   "source": [
    "stack.size()"
   ]
  },
  {
   "cell_type": "code",
   "execution_count": 21,
   "metadata": {
    "collapsed": false,
    "nbpresent": {
     "id": "d80edbde-f0eb-47a2-b158-2bbfd7544cbb"
    },
    "slideshow": {
     "slide_type": "slide"
    }
   },
   "outputs": [],
   "source": [
    "from collections import deque\n",
    "class Que:\n",
    "    def __init__(self):\n",
    "        self.bucket = deque()\n",
    "        \n",
    "    def enqueData(self, data):\n",
    "        self.bucket.append(data)\n",
    "        \n",
    "    def dequeData(self):\n",
    "        return self.bucket.popleft()\n",
    "    \n",
    "    def size(self):\n",
    "        return len(self.bucket)\n",
    "    \n",
    "    def is_empty(self):\n",
    "        return self.size() == 0\n",
    "    \n",
    "    def display(self):\n",
    "        print(self.bucket)"
   ]
  },
  {
   "cell_type": "code",
   "execution_count": 22,
   "metadata": {
    "collapsed": false
   },
   "outputs": [
    {
     "data": {
      "text/plain": [
       "'A'"
      ]
     },
     "execution_count": 22,
     "metadata": {},
     "output_type": "execute_result"
    }
   ],
   "source": [
    "q = Que()\n",
    "q.enqueData(\"A\")\n",
    "q.enqueData(\"B\")\n",
    "q.dequeData()"
   ]
  },
  {
   "cell_type": "code",
   "execution_count": 117,
   "metadata": {
    "collapsed": true
   },
   "outputs": [],
   "source": [
    "class Node:\n",
    "    def __init__(self, xdata):\n",
    "        self.data = xdata\n",
    "        self.next = None\n",
    "        \n",
    "    def get_data(self):\n",
    "        return self.data\n",
    "    \n",
    "    def set_data(self, newData):\n",
    "        self.data = newData\n",
    "        \n",
    "    def set_next(self, newNext):\n",
    "        self.next = newNext\n",
    "        \n",
    "    def get_next(self):\n",
    "        return self.next;\n",
    "    \n",
    "    def __str__(self):\n",
    "        return str(self.data)"
   ]
  },
  {
   "cell_type": "code",
   "execution_count": 118,
   "metadata": {
    "collapsed": false
   },
   "outputs": [
    {
     "name": "stdout",
     "output_type": "stream",
     "text": [
      "5\n"
     ]
    }
   ],
   "source": [
    "node = Node(5)\n",
    "print(node)"
   ]
  },
  {
   "cell_type": "code",
   "execution_count": 213,
   "metadata": {
    "collapsed": false
   },
   "outputs": [],
   "source": [
    "class UnorderedList:\n",
    "    def __init__(self):\n",
    "        self.head = None\n",
    "        \n",
    "    def is_empty(self):\n",
    "        return self.head == None\n",
    "    \n",
    "    def add(self, data):\n",
    "        newNode = Node(data)\n",
    "        newNode.set_next(self.head)\n",
    "        self.head = newNode\n",
    "        \n",
    "    def size(self):\n",
    "        current = self.head\n",
    "        count = 0;\n",
    "        while current != None:\n",
    "            count = count + 1\n",
    "            current = current.get_next()\n",
    "            \n",
    "        return count\n",
    "    \n",
    "    def search(self, item):\n",
    "        current = self.head\n",
    "        found = False\n",
    "        while current != None and not found:\n",
    "            if current.get_data() == item:\n",
    "                found = True\n",
    "            else:\n",
    "                current = current.get_next()\n",
    "                \n",
    "        return found\n",
    "    \n",
    "    def remove(self,item):\n",
    "        current = self.head\n",
    "        previous = None\n",
    "        found = False\n",
    "        while not found:\n",
    "            if current.get_data() == item:\n",
    "                found = True\n",
    "            else:\n",
    "                previous = current\n",
    "                current = current.get_next()\n",
    "\n",
    "        if previous == None:\n",
    "            self.head = current.get_next()\n",
    "        else:\n",
    "            previous.set_next(current.get_next())\n",
    "            \n",
    "    def index(self, item):\n",
    "        current = self.head\n",
    "        count = 0;\n",
    "        found = False\n",
    "        while current != None and not found:\n",
    "            if current.get_data() == item:\n",
    "                found = True\n",
    "            else:\n",
    "                current = current.get_next()\n",
    "                count = count + 1\n",
    "        return count\n",
    "            \n",
    "    def append(self, item):\n",
    "        current = self.head\n",
    "        previous = None\n",
    "        while current != None:\n",
    "            previous = current\n",
    "            current = current.get_next()\n",
    "            \n",
    "        if type(item) == 'list':\n",
    "            for i in item:\n",
    "                n = Node(i)\n",
    "                previous.set_next(n)\n",
    "                n = previous\n",
    "                \n",
    "        else:\n",
    "            newNode = Node(item)\n",
    "            previous.set_next(newNode)\n",
    "        \n",
    "    def pop(self):\n",
    "        poppedNode = self.head\n",
    "        if self.size() > 1:\n",
    "            self.head.set_next(self.head.get_next().get_next())\n",
    "        else:\n",
    "            self.head.set_next(None)\n",
    "        return poppedNode.get_data()\n",
    "        "
   ]
  },
  {
   "cell_type": "code",
   "execution_count": 184,
   "metadata": {
    "collapsed": false
   },
   "outputs": [
    {
     "name": "stdout",
     "output_type": "stream",
     "text": [
      "3\n",
      "2\n",
      "1\n",
      "0\n",
      "4\n"
     ]
    }
   ],
   "source": [
    "ul = UnorderedList()\n",
    "ul.add(\"a\")\n",
    "ul.add(\"b\")\n",
    "ul.add(\"c\")\n",
    "ul.add(\"d\")\n",
    "ul.append(\"e\")\n",
    "print(ul.index(\"a\"))\n",
    "print(ul.index(\"b\"))\n",
    "print(ul.index(\"c\"))\n",
    "print(ul.index(\"d\"))\n",
    "print(ul.index(\"e\"))\n",
    "ul.append([\"1\", \"2\", \"3\", \"4\", \"5\"])"
   ]
  },
  {
   "cell_type": "code",
   "execution_count": 183,
   "metadata": {
    "collapsed": false
   },
   "outputs": [
    {
     "data": {
      "text/plain": [
       "6"
      ]
     },
     "execution_count": 183,
     "metadata": {},
     "output_type": "execute_result"
    }
   ],
   "source": [
    "ul.size()"
   ]
  },
  {
   "cell_type": "code",
   "execution_count": 167,
   "metadata": {
    "collapsed": false
   },
   "outputs": [
    {
     "data": {
      "text/plain": [
       "True"
      ]
     },
     "execution_count": 167,
     "metadata": {},
     "output_type": "execute_result"
    }
   ],
   "source": [
    "ul.search(\"b\")"
   ]
  },
  {
   "cell_type": "code",
   "execution_count": 95,
   "metadata": {
    "collapsed": false
   },
   "outputs": [],
   "source": [
    "class Node:\n",
    "    def __init__(self, data=None):\n",
    "        self.left = None\n",
    "        self.right = None\n",
    "        self.data = data\n",
    "    def set_left(self, l):\n",
    "        self.left = l\n",
    "    def set_right(self, r):\n",
    "        self.right = r\n",
    "    def set_data(self, data):\n",
    "        self.data = data\n",
    "    def get_left(self):\n",
    "        return self.left\n",
    "    def get_right(self):\n",
    "        return self.right\n",
    "    def get_data(self):\n",
    "        return self.data"
   ]
  },
  {
   "cell_type": "code",
   "execution_count": 111,
   "metadata": {
    "collapsed": false
   },
   "outputs": [],
   "source": [
    "class BTree:\n",
    "    def __init__(self):\n",
    "        self.root = Node()\n",
    "    def add(self, data):\n",
    "        xNode = Node()\n",
    "        xNode.set_data(data)\n",
    "        if self.root.data == None:\n",
    "            self.root = xNode\n",
    "        else:\n",
    "            self._add(data, self.root)\n",
    "        \n",
    "    def _add(self, data, n):\n",
    "        if data < n.get_data():\n",
    "            if n.get_left() != None:\n",
    "                self._add(data, n.get_left())\n",
    "            else:\n",
    "                n.set_left(Node(data))\n",
    "        else:\n",
    "            if n.get_right() != None:\n",
    "                self._add(data, n.get_right())\n",
    "            else:\n",
    "                n.set_right(Node(data))\n",
    "                \n",
    "    def get_root(self):\n",
    "        return self.root\n",
    "    \n",
    "    def display(self, n):\n",
    "        if n != None:\n",
    "            print(n.get_data())\n",
    "            self.display(n.get_left())\n",
    "            self.display(n.get_right())    "
   ]
  },
  {
   "cell_type": "code",
   "execution_count": 112,
   "metadata": {
    "collapsed": false
   },
   "outputs": [
    {
     "name": "stdout",
     "output_type": "stream",
     "text": [
      "9\n",
      "2\n",
      "1\n",
      "5\n"
     ]
    }
   ],
   "source": [
    "b = BTree()\n",
    "b.add(9)\n",
    "b.add(2)\n",
    "b.add(5)\n",
    "b.add(1)\n",
    "b.display(b.get_root())"
   ]
  },
  {
   "cell_type": "code",
   "execution_count": 113,
   "metadata": {
    "collapsed": false
   },
   "outputs": [
    {
     "name": "stdout",
     "output_type": "stream",
     "text": [
      "[[1 4 7]\n",
      " [2 5 8]\n",
      " [3 6 9]]\n"
     ]
    }
   ],
   "source": [
    "from numpy import matrix\n",
    "m = matrix([[1, 2, 3], [4, 5, 6], [7, 8, 9]])\n",
    "print(m.T)"
   ]
  },
  {
   "cell_type": "code",
   "execution_count": 9,
   "metadata": {
    "collapsed": false
   },
   "outputs": [],
   "source": [
    "class Graph:\n",
    "    \n",
    "    def __init__(self, dic = None, directed = True): \n",
    "        self.dic = {}\n",
    "        self.directed = directed\n",
    "        if not directed: self.create_undirected()\n",
    "    def create_undirected(self):\n",
    "        for a in self.dic.keys():\n",
    "            for (b, distance) in self.dic[a].items():\n",
    "                self.connect_1(b, a, distance)\n",
    "    def connect(self, A, B, distance=1):\n",
    "        self.connect_1(A, B, distance)\n",
    "        if not self.directed: self.connect_1(B, A, distance)\n",
    "    def connect_1(self, A, B, distance): \n",
    "        self.dic.setdefault(A, {})[B] = distance\n",
    "    def get(self, a, b=None):\n",
    "        links = self.dic.setdefault(a, {})\n",
    "        if b is None: return links\n",
    "        else: return links.get(b)\n",
    "    def nodes(self):\n",
    "        return self.dic.keys()\n",
    "    "
   ]
  },
  {
   "cell_type": "code",
   "execution_count": null,
   "metadata": {
    "collapsed": true
   },
   "outputs": [],
   "source": []
  },
  {
   "cell_type": "code",
   "execution_count": 8,
   "metadata": {
    "collapsed": false
   },
   "outputs": [
    {
     "name": "stdout",
     "output_type": "stream",
     "text": [
      "{2: 1, 3: 1, 4: 1}\n",
      "{3: 1, 5: 1}\n",
      "dict_keys([1, 2])\n"
     ]
    }
   ],
   "source": [
    "graph = Graph()\n",
    "graph.connect(1, 3)\n",
    "graph.connect(1, 2)\n",
    "graph.connect(1, 4)\n",
    "graph.connect(2, 3)\n",
    "graph.connect(2, 5)\n",
    "print(graph.get(1))\n",
    "print(graph.get(2))\n",
    "print(graph.nodes())"
   ]
  },
  {
   "cell_type": "code",
   "execution_count": null,
   "metadata": {
    "collapsed": true
   },
   "outputs": [],
   "source": []
  }
 ],
 "metadata": {
  "anaconda-cloud": {},
  "celltoolbar": "Slideshow",
  "kernelspec": {
   "display_name": "Python [Root]",
   "language": "python",
   "name": "Python [Root]"
  },
  "language_info": {
   "codemirror_mode": {
    "name": "ipython",
    "version": 3
   },
   "file_extension": ".py",
   "mimetype": "text/x-python",
   "name": "python",
   "nbconvert_exporter": "python",
   "pygments_lexer": "ipython3",
   "version": "3.5.2"
  },
  "nbpresent": {
   "slides": {
    "03248bb4-f166-49fd-a3ee-46384c449d6a": {
     "id": "03248bb4-f166-49fd-a3ee-46384c449d6a",
     "prev": "0de06885-2bc5-4209-9704-064a0bc30b87",
     "regions": {
      "a7382c3b-baf3-4733-a984-6a7d768cdb1a": {
       "attrs": {
        "height": 0.8,
        "width": 0.8,
        "x": 0.1,
        "y": 0.1
       },
       "content": {
        "cell": "1f56434c-a457-4813-a022-52c52f3db2de",
        "part": "whole"
       },
       "id": "a7382c3b-baf3-4733-a984-6a7d768cdb1a"
      }
     }
    },
    "0de06885-2bc5-4209-9704-064a0bc30b87": {
     "id": "0de06885-2bc5-4209-9704-064a0bc30b87",
     "prev": "ec5eed06-f289-4c16-b0ed-a823feb70281",
     "regions": {
      "8d0ae7e8-0ec5-4097-b4cc-4531bdf1428a": {
       "attrs": {
        "height": 0.8,
        "width": 0.8,
        "x": 0.1,
        "y": 0.1
       },
       "content": {
        "cell": "17e1fc28-2fd8-4db4-b7aa-dec5ab2185c2",
        "part": "whole"
       },
       "id": "8d0ae7e8-0ec5-4097-b4cc-4531bdf1428a"
      }
     }
    },
    "9129178f-ef7d-48fe-9ae7-793fd77827d9": {
     "id": "9129178f-ef7d-48fe-9ae7-793fd77827d9",
     "prev": null,
     "regions": {
      "1e091e15-a11d-478e-a396-1e03210ba89f": {
       "attrs": {
        "height": 0.8,
        "width": 0.8,
        "x": 0.1,
        "y": 0.1
       },
       "content": {
        "cell": "d45d3f27-f3c0-4b98-b9ee-fc3925568913",
        "part": "whole"
       },
       "id": "1e091e15-a11d-478e-a396-1e03210ba89f"
      }
     }
    },
    "965b337d-e665-4b6a-888e-4b7c075f6084": {
     "id": "965b337d-e665-4b6a-888e-4b7c075f6084",
     "prev": "03248bb4-f166-49fd-a3ee-46384c449d6a",
     "regions": {
      "99b35893-caa1-4071-8f53-91655d4babe3": {
       "attrs": {
        "height": 0.8,
        "width": 0.8,
        "x": 0.1,
        "y": 0.1
       },
       "content": {
        "cell": "d80edbde-f0eb-47a2-b158-2bbfd7544cbb",
        "part": "whole"
       },
       "id": "99b35893-caa1-4071-8f53-91655d4babe3"
      }
     }
    },
    "9e708b7f-e38b-48e9-8af0-9e6597df82e1": {
     "id": "9e708b7f-e38b-48e9-8af0-9e6597df82e1",
     "prev": "9129178f-ef7d-48fe-9ae7-793fd77827d9",
     "regions": {
      "302a1225-6933-400e-b13f-19f1f7da5672": {
       "attrs": {
        "height": 0.8,
        "width": 0.8,
        "x": 0.1,
        "y": 0.1
       },
       "content": {
        "cell": "7288847e-0348-4c06-904f-1021982c3adc",
        "part": "whole"
       },
       "id": "302a1225-6933-400e-b13f-19f1f7da5672"
      }
     }
    },
    "ec5eed06-f289-4c16-b0ed-a823feb70281": {
     "id": "ec5eed06-f289-4c16-b0ed-a823feb70281",
     "prev": "9e708b7f-e38b-48e9-8af0-9e6597df82e1",
     "regions": {
      "9db89b85-7c62-464f-8b6e-d3336f409623": {
       "attrs": {
        "height": 0.8,
        "width": 0.8,
        "x": 0.1,
        "y": 0.1
       },
       "content": {
        "cell": "e73daec3-ea82-4739-9b65-3a6f8e81376d",
        "part": "whole"
       },
       "id": "9db89b85-7c62-464f-8b6e-d3336f409623"
      }
     }
    }
   },
   "themes": {
    "default": "24ea5759-af9d-4cbf-9967-392926bd18ae",
    "theme": {
     "24ea5759-af9d-4cbf-9967-392926bd18ae": {
      "id": "24ea5759-af9d-4cbf-9967-392926bd18ae",
      "palette": {
       "19cc588f-0593-49c9-9f4b-e4d7cc113b1c": {
        "id": "19cc588f-0593-49c9-9f4b-e4d7cc113b1c",
        "rgb": [
         252,
         252,
         252
        ]
       },
       "31af15d2-7e15-44c5-ab5e-e04b16a89eff": {
        "id": "31af15d2-7e15-44c5-ab5e-e04b16a89eff",
        "rgb": [
         68,
         68,
         68
        ]
       },
       "50f92c45-a630-455b-aec3-788680ec7410": {
        "id": "50f92c45-a630-455b-aec3-788680ec7410",
        "rgb": [
         155,
         177,
         192
        ]
       },
       "c5cc3653-2ee1-402a-aba2-7caae1da4f6c": {
        "id": "c5cc3653-2ee1-402a-aba2-7caae1da4f6c",
        "rgb": [
         43,
         126,
         184
        ]
       },
       "efa7f048-9acb-414c-8b04-a26811511a21": {
        "id": "efa7f048-9acb-414c-8b04-a26811511a21",
        "rgb": [
         25.118061674008803,
         73.60176211453744,
         107.4819383259912
        ]
       }
      },
      "rules": {
       "blockquote": {
        "color": "50f92c45-a630-455b-aec3-788680ec7410"
       },
       "code": {
        "font-family": "Anonymous Pro"
       },
       "h1": {
        "color": "c5cc3653-2ee1-402a-aba2-7caae1da4f6c",
        "font-family": "Lato",
        "font-size": 8
       },
       "h2": {
        "color": "c5cc3653-2ee1-402a-aba2-7caae1da4f6c",
        "font-family": "Lato",
        "font-size": 6
       },
       "h3": {
        "color": "50f92c45-a630-455b-aec3-788680ec7410",
        "font-family": "Lato",
        "font-size": 5.5
       },
       "h4": {
        "color": "c5cc3653-2ee1-402a-aba2-7caae1da4f6c",
        "font-family": "Lato",
        "font-size": 5
       },
       "h5": {
        "font-family": "Lato"
       },
       "h6": {
        "font-family": "Lato"
       },
       "h7": {
        "font-family": "Lato"
       },
       "pre": {
        "font-family": "Anonymous Pro",
        "font-size": 4
       }
      },
      "text-base": {
       "font-family": "Merriweather",
       "font-size": 4
      }
     },
     "81fc0584-9563-46f4-afb6-daeb24aa53f3": {
      "backgrounds": {
       "dc7afa04-bf90-40b1-82a5-726e3cff5267": {
        "background-color": "31af15d2-7e15-44c5-ab5e-e04b16a89eff",
        "id": "dc7afa04-bf90-40b1-82a5-726e3cff5267"
       }
      },
      "id": "81fc0584-9563-46f4-afb6-daeb24aa53f3",
      "palette": {
       "19cc588f-0593-49c9-9f4b-e4d7cc113b1c": {
        "id": "19cc588f-0593-49c9-9f4b-e4d7cc113b1c",
        "rgb": [
         252,
         252,
         252
        ]
       },
       "31af15d2-7e15-44c5-ab5e-e04b16a89eff": {
        "id": "31af15d2-7e15-44c5-ab5e-e04b16a89eff",
        "rgb": [
         68,
         68,
         68
        ]
       },
       "50f92c45-a630-455b-aec3-788680ec7410": {
        "id": "50f92c45-a630-455b-aec3-788680ec7410",
        "rgb": [
         197,
         226,
         245
        ]
       },
       "c5cc3653-2ee1-402a-aba2-7caae1da4f6c": {
        "id": "c5cc3653-2ee1-402a-aba2-7caae1da4f6c",
        "rgb": [
         43,
         126,
         184
        ]
       },
       "efa7f048-9acb-414c-8b04-a26811511a21": {
        "id": "efa7f048-9acb-414c-8b04-a26811511a21",
        "rgb": [
         25.118061674008803,
         73.60176211453744,
         107.4819383259912
        ]
       }
      },
      "rules": {
       "a": {
        "color": "19cc588f-0593-49c9-9f4b-e4d7cc113b1c"
       },
       "blockquote": {
        "color": "50f92c45-a630-455b-aec3-788680ec7410",
        "font-size": 3
       },
       "code": {
        "font-family": "Anonymous Pro"
       },
       "h1": {
        "color": "19cc588f-0593-49c9-9f4b-e4d7cc113b1c",
        "font-family": "Merriweather",
        "font-size": 8
       },
       "h2": {
        "color": "19cc588f-0593-49c9-9f4b-e4d7cc113b1c",
        "font-family": "Merriweather",
        "font-size": 6
       },
       "h3": {
        "color": "50f92c45-a630-455b-aec3-788680ec7410",
        "font-family": "Lato",
        "font-size": 5.5
       },
       "h4": {
        "color": "c5cc3653-2ee1-402a-aba2-7caae1da4f6c",
        "font-family": "Lato",
        "font-size": 5
       },
       "h5": {
        "font-family": "Lato"
       },
       "h6": {
        "font-family": "Lato"
       },
       "h7": {
        "font-family": "Lato"
       },
       "li": {
        "color": "50f92c45-a630-455b-aec3-788680ec7410",
        "font-size": 3.25
       },
       "pre": {
        "font-family": "Anonymous Pro",
        "font-size": 4
       }
      },
      "text-base": {
       "color": "19cc588f-0593-49c9-9f4b-e4d7cc113b1c",
       "font-family": "Lato",
       "font-size": 4
      }
     },
     "d650c1a2-7275-43e5-b18e-4b459da1ebf7": {
      "backgrounds": {
       "dc7afa04-bf90-40b1-82a5-726e3cff5267": {
        "background-color": "31af15d2-7e15-44c5-ab5e-e04b16a89eff",
        "id": "dc7afa04-bf90-40b1-82a5-726e3cff5267"
       }
      },
      "id": "d650c1a2-7275-43e5-b18e-4b459da1ebf7",
      "palette": {
       "19cc588f-0593-49c9-9f4b-e4d7cc113b1c": {
        "id": "19cc588f-0593-49c9-9f4b-e4d7cc113b1c",
        "rgb": [
         252,
         252,
         252
        ]
       },
       "31af15d2-7e15-44c5-ab5e-e04b16a89eff": {
        "id": "31af15d2-7e15-44c5-ab5e-e04b16a89eff",
        "rgb": [
         68,
         68,
         68
        ]
       },
       "50f92c45-a630-455b-aec3-788680ec7410": {
        "id": "50f92c45-a630-455b-aec3-788680ec7410",
        "rgb": [
         197,
         226,
         245
        ]
       },
       "c5cc3653-2ee1-402a-aba2-7caae1da4f6c": {
        "id": "c5cc3653-2ee1-402a-aba2-7caae1da4f6c",
        "rgb": [
         43,
         126,
         184
        ]
       },
       "efa7f048-9acb-414c-8b04-a26811511a21": {
        "id": "efa7f048-9acb-414c-8b04-a26811511a21",
        "rgb": [
         25.118061674008803,
         73.60176211453744,
         107.4819383259912
        ]
       }
      },
      "rules": {
       "a": {
        "color": "19cc588f-0593-49c9-9f4b-e4d7cc113b1c"
       },
       "blockquote": {
        "color": "50f92c45-a630-455b-aec3-788680ec7410",
        "font-size": 3
       },
       "code": {
        "font-family": "Anonymous Pro"
       },
       "h1": {
        "color": "19cc588f-0593-49c9-9f4b-e4d7cc113b1c",
        "font-family": "Merriweather",
        "font-size": 8
       },
       "h2": {
        "color": "19cc588f-0593-49c9-9f4b-e4d7cc113b1c",
        "font-family": "Merriweather",
        "font-size": 6
       },
       "h3": {
        "color": "50f92c45-a630-455b-aec3-788680ec7410",
        "font-family": "Lato",
        "font-size": 5.5
       },
       "h4": {
        "color": "c5cc3653-2ee1-402a-aba2-7caae1da4f6c",
        "font-family": "Lato",
        "font-size": 5
       },
       "h5": {
        "font-family": "Lato"
       },
       "h6": {
        "font-family": "Lato"
       },
       "h7": {
        "font-family": "Lato"
       },
       "li": {
        "color": "50f92c45-a630-455b-aec3-788680ec7410",
        "font-size": 3.25
       },
       "pre": {
        "font-family": "Anonymous Pro",
        "font-size": 4
       }
      },
      "text-base": {
       "color": "19cc588f-0593-49c9-9f4b-e4d7cc113b1c",
       "font-family": "Lato",
       "font-size": 4
      }
     }
    }
   }
  }
 },
 "nbformat": 4,
 "nbformat_minor": 0
}
