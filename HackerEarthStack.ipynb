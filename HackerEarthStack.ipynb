{
 "cells": [
  {
   "cell_type": "code",
   "execution_count": 2,
   "metadata": {
    "collapsed": false
   },
   "outputs": [
    {
     "data": {
      "text/plain": [
       "['P', '23']"
      ]
     },
     "execution_count": 2,
     "metadata": {},
     "output_type": "execute_result"
    }
   ],
   "source": [
    "a = \"P 23\"\n",
    "a.split()"
   ]
  },
  {
   "cell_type": "code",
   "execution_count": 4,
   "metadata": {
    "collapsed": false
   },
   "outputs": [
    {
     "name": "stdout",
     "output_type": "stream",
     "text": [
      "hello\n"
     ]
    }
   ],
   "source": [
    "a = input()"
   ]
  },
  {
   "cell_type": "code",
   "execution_count": 2,
   "metadata": {
    "collapsed": false
   },
   "outputs": [
    {
     "name": "stdout",
     "output_type": "stream",
     "text": [
      "1\n",
      "4 23\n",
      "P 21\n",
      "B\n",
      "B\n",
      "B\n",
      "Player 23\n"
     ]
    }
   ],
   "source": [
    "t = int(input())\n",
    "bucket = []\n",
    "\n",
    "for i in range(t):\n",
    "    r = input().split()\n",
    "    bucket.append(r[1])\n",
    "    for s in range(int(r[0])):\n",
    "        pb = input().split()\n",
    "        if pb[0] != 'B':\n",
    "            bucket.append(int(pb[1]))\n",
    "        else:\n",
    "            A = bucket.pop()\n",
    "            B = bucket.pop()\n",
    "            bucket.append(A)\n",
    "            bucket.append(B)\n",
    "                \n",
    "    print(\"Player \" + bucket[-1])"
   ]
  },
  {
   "cell_type": "code",
   "execution_count": null,
   "metadata": {
    "collapsed": false
   },
   "outputs": [],
   "source": []
  },
  {
   "cell_type": "code",
   "execution_count": null,
   "metadata": {
    "collapsed": true
   },
   "outputs": [],
   "source": []
  }
 ],
 "metadata": {
  "kernelspec": {
   "display_name": "Python [Root]",
   "language": "python",
   "name": "Python [Root]"
  },
  "language_info": {
   "codemirror_mode": {
    "name": "ipython",
    "version": 3
   },
   "file_extension": ".py",
   "mimetype": "text/x-python",
   "name": "python",
   "nbconvert_exporter": "python",
   "pygments_lexer": "ipython3",
   "version": "3.5.2"
  }
 },
 "nbformat": 4,
 "nbformat_minor": 0
}
