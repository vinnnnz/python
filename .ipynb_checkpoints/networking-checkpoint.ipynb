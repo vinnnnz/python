{
 "cells": [
  {
   "cell_type": "code",
   "execution_count": 22,
   "metadata": {
    "collapsed": false
   },
   "outputs": [
    {
     "name": "stdout",
     "output_type": "stream",
     "text": [
      "Found 302\n"
     ]
    }
   ],
   "source": [
    "import http.client\n",
    "con = http.client.HTTPSConnection(\"google.com\")\n",
    "con.request(\"GET\",\"/\")\n",
    "res = con.getresponse()\n",
    "print(res.reason, res.status)"
   ]
  },
  {
   "cell_type": "code",
   "execution_count": 13,
   "metadata": {
    "collapsed": false
   },
   "outputs": [
    {
     "name": "stdout",
     "output_type": "stream",
     "text": [
      "b''\n"
     ]
    }
   ],
   "source": [
    "data = res.read()\n",
    "print(data)"
   ]
  },
  {
   "cell_type": "code",
   "execution_count": null,
   "metadata": {
    "collapsed": false
   },
   "outputs": [],
   "source": [
    "#server.py\n",
    "import socket\n",
    "import time\n",
    "\n",
    "serverSocket = socket.socket(socket.AF_INET, socket.SOCK_STREAM);\n",
    "\n",
    "host = socket.gethostname()                           \n",
    "port = 9999\n",
    "\n",
    "serverSocket.bind((host, port))\n",
    "serverSocket.listen(5)\n",
    "while True:\n",
    "    # establish a connection\n",
    "    clientsocket,addr = serverSocket.accept()      \n",
    "\n",
    "    print(\"Got a connection from %s\" % str(addr))\n",
    "    currentTime = time.ctime(time.time()) + \"\\r\\n\"\n",
    "    clientsocket.send(currentTime.encode('ascii'))\n",
    "    clientsocket.close()"
   ]
  },
  {
   "cell_type": "code",
   "execution_count": null,
   "metadata": {
    "collapsed": true
   },
   "outputs": [],
   "source": [
    "import socket\n",
    "\n",
    "# create a socket object\n",
    "s = socket.socket(socket.AF_INET, socket.SOCK_STREAM) \n",
    "\n",
    "# get local machine name\n",
    "host = socket.gethostname()                           \n",
    "\n",
    "port = 9999\n",
    "\n",
    "# connection to hostname on the port.\n",
    "s.connect((host, port))                               \n",
    "\n",
    "# Receive no more than 1024 bytes\n",
    "tm = s.recv(1024)                                     \n",
    "\n",
    "s.close()\n",
    "\n",
    "print(\"The time got from the server is %s\" % tm.decode('ascii'))"
   ]
  },
  {
   "cell_type": "code",
   "execution_count": null,
   "metadata": {
    "collapsed": true
   },
   "outputs": [],
   "source": []
  }
 ],
 "metadata": {
  "kernelspec": {
   "display_name": "Python [Root]",
   "language": "python",
   "name": "Python [Root]"
  },
  "language_info": {
   "codemirror_mode": {
    "name": "ipython",
    "version": 3
   },
   "file_extension": ".py",
   "mimetype": "text/x-python",
   "name": "python",
   "nbconvert_exporter": "python",
   "pygments_lexer": "ipython3",
   "version": "3.5.2"
  }
 },
 "nbformat": 4,
 "nbformat_minor": 0
}
